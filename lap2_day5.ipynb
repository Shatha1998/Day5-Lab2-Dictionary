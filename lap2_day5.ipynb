{
 "cells": [
  {
   "cell_type": "code",
   "execution_count": 62,
   "id": "b32ca1e2",
   "metadata": {},
   "outputs": [
    {
     "name": "stdout",
     "output_type": "stream",
     "text": [
      "enter number7777777777\n",
      "Layla\n"
     ]
    }
   ],
   "source": [
    "dic1 ={\n",
    "    '1':{\n",
    "        'name':\"Amal\",\n",
    "        'number':1111111111\n",
    "        \n",
    "    },\n",
    "    \n",
    "    '2':{\n",
    "        'name':\"Mohammed\",\n",
    "        'number':2222222222\n",
    "        \n",
    "    },\n",
    "    \n",
    "    '3':{\n",
    "        'name':\"Khadijah\",\n",
    "        'number':3333333333\n",
    "        \n",
    "    },\n",
    "    \n",
    "    '4':{\n",
    "        'name':\"Abdullah\",\n",
    "        'number':4444444444\n",
    "        \n",
    "    },\n",
    "    \n",
    "    '5':{\n",
    "        'name':'Rawan',\n",
    "        'number':5555555555\n",
    "        \n",
    "    },\n",
    "    '6':{\n",
    "        'name':'Faisal',\n",
    "        'number':6666666666\n",
    "        \n",
    "    },\n",
    "    '7':{\n",
    "        'name':'Layla',\n",
    "        'number':7777777777\n",
    "        \n",
    "    },\n",
    "}\n",
    "\n",
    "number = input(\"enter number\")\n",
    "if len(number)>10 or len(number)<10:\n",
    "     print (\"This is invalid number\")\n",
    "elif not number.isnumeric():\n",
    "    print (\"This is invalid number it containes letters\")\n",
    "else:\n",
    "    notfound=True\n",
    "    for key,value in dic1.items():\n",
    "        if int(number) == value['number']:\n",
    "            print(value['name'])\n",
    "            notfound = False\n",
    "            break\n",
    "    if notfound:\n",
    "        print (\"Sorry, the number is not found\")"
   ]
  }
 ],
 "metadata": {
  "kernelspec": {
   "display_name": "Python 3 (ipykernel)",
   "language": "python",
   "name": "python3"
  },
  "language_info": {
   "codemirror_mode": {
    "name": "ipython",
    "version": 3
   },
   "file_extension": ".py",
   "mimetype": "text/x-python",
   "name": "python",
   "nbconvert_exporter": "python",
   "pygments_lexer": "ipython3",
   "version": "3.9.13"
  }
 },
 "nbformat": 4,
 "nbformat_minor": 5
}
